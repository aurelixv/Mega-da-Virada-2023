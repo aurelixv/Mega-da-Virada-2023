{
 "cells": [
  {
   "cell_type": "code",
   "execution_count": 1,
   "metadata": {},
   "outputs": [],
   "source": [
    "import random\n",
    "from functools import reduce\n",
    "from datetime import datetime"
   ]
  },
  {
   "cell_type": "code",
   "execution_count": 2,
   "metadata": {},
   "outputs": [],
   "source": [
    "TAMANHO_JOGO = 6\n",
    "QUANTIDADE_JOGOS = 10"
   ]
  },
  {
   "cell_type": "code",
   "execution_count": 3,
   "metadata": {},
   "outputs": [],
   "source": [
    "with open('../numeros-da-sorte.txt', 'r') as f:\n",
    "    lines = [line.split() for line in f.readlines()]\n",
    "    lucky = list()\n",
    "    for line in lines:\n",
    "        for token in line:\n",
    "            if token.isdigit():\n",
    "                lucky.append(token)"
   ]
  },
  {
   "cell_type": "code",
   "execution_count": 4,
   "metadata": {},
   "outputs": [
    {
     "data": {
      "text/plain": [
       "['5273', '6174', '2624', '1574', '8202', '1235', '5423', '13228', '6024']"
      ]
     },
     "execution_count": 4,
     "metadata": {},
     "output_type": "execute_result"
    }
   ],
   "source": [
    "lucky"
   ]
  },
  {
   "cell_type": "code",
   "execution_count": 5,
   "metadata": {},
   "outputs": [],
   "source": [
    "def generate_lucky_numbers(number: str):\n",
    "    gen_numbers = list()\n",
    "    for i in range(len(number)):\n",
    "        digit = number[i]\n",
    "        gen_numbers.append(int(digit))\n",
    "        aux_number = number[:i] + number[i+1:]\n",
    "        for j in range(len(aux_number)):\n",
    "            aux_digit = aux_number[j]\n",
    "            gen_numbers.append(int(digit+aux_digit))\n",
    "\n",
    "    return gen_numbers"
   ]
  },
  {
   "cell_type": "code",
   "execution_count": 6,
   "metadata": {},
   "outputs": [],
   "source": [
    "lucky_tokens = [number for number in reduce(lambda x, y: x + y,\n",
    "                                            [generate_lucky_numbers(number) for number in lucky]) if number <= 60 and number > 0]"
   ]
  },
  {
   "cell_type": "code",
   "execution_count": 7,
   "metadata": {},
   "outputs": [
    {
     "data": {
      "text/plain": [
       "[5, 52, 57, 53, 2, 25, 27, 23, 7, 3]"
      ]
     },
     "execution_count": 7,
     "metadata": {},
     "output_type": "execute_result"
    }
   ],
   "source": [
    "lucky_tokens[:10]"
   ]
  },
  {
   "cell_type": "code",
   "execution_count": 8,
   "metadata": {},
   "outputs": [],
   "source": [
    "def generate_lucky_game(lucky_tokens: list, game_size: int):\n",
    "    lucky_game = list()\n",
    "    aux_list = lucky_tokens.copy()\n",
    "    if len(set(lucky_tokens)) >= game_size:\n",
    "        for _ in range(game_size):\n",
    "            random.shuffle(aux_list)\n",
    "            lucky_game.append(aux_list[0])\n",
    "            aux_list = [number for number in aux_list if number != aux_list[0]]\n",
    "        lucky_game.sort()\n",
    "        return lucky_game\n",
    "    else:\n",
    "        return None"
   ]
  },
  {
   "cell_type": "code",
   "execution_count": 9,
   "metadata": {},
   "outputs": [],
   "source": [
    "games = [generate_lucky_game(lucky_tokens, TAMANHO_JOGO)\n",
    "         for _ in range(QUANTIDADE_JOGOS)]\n",
    "games = sorted(list(set(tuple(i) for i in games)))"
   ]
  },
  {
   "cell_type": "code",
   "execution_count": 10,
   "metadata": {},
   "outputs": [
    {
     "data": {
      "text/plain": [
       "[(1, 2, 14, 15, 17, 23),\n",
       " (1, 2, 18, 28, 52, 60),\n",
       " (1, 6, 13, 15, 27, 45),\n",
       " (1, 6, 26, 28, 35, 46),\n",
       " (2, 4, 23, 31, 34, 42),\n",
       " (2, 23, 25, 31, 32, 54),\n",
       " (3, 5, 12, 23, 28, 32),\n",
       " (3, 23, 25, 28, 43, 53),\n",
       " (4, 5, 6, 13, 18, 27),\n",
       " (4, 24, 25, 28, 32, 38)]"
      ]
     },
     "execution_count": 10,
     "metadata": {},
     "output_type": "execute_result"
    }
   ],
   "source": [
    "games"
   ]
  },
  {
   "cell_type": "code",
   "execution_count": 11,
   "metadata": {},
   "outputs": [],
   "source": [
    "timestamp = datetime.now().strftime('%Y%m%d%H%M%S.%f')\n",
    "with open(f'../jogos-da-sorte_{timestamp}', 'w') as f:\n",
    "    for game, i in zip(games, range(1, len(games) + 1, 1)):\n",
    "        f.write(f'Jogo {i}: {str(game)}\\n')"
   ]
  }
 ],
 "metadata": {
  "kernelspec": {
   "display_name": "venv",
   "language": "python",
   "name": "python3"
  },
  "language_info": {
   "codemirror_mode": {
    "name": "ipython",
    "version": 3
   },
   "file_extension": ".py",
   "mimetype": "text/x-python",
   "name": "python",
   "nbconvert_exporter": "python",
   "pygments_lexer": "ipython3",
   "version": "3.11.5"
  }
 },
 "nbformat": 4,
 "nbformat_minor": 2
}
